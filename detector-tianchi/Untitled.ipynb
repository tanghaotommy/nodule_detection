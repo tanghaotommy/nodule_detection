{
 "cells": [
  {
   "cell_type": "code",
   "execution_count": 1,
   "metadata": {},
   "outputs": [
    {
     "name": "stderr",
     "output_type": "stream",
     "text": [
      "/home/htang6/anaconda2/lib/python2.7/site-packages/IPython/html.py:14: ShimWarning: The `IPython.html` package has been deprecated since IPython 4.0. You should import from `notebook` instead. `IPython.html.widgets` has moved to `ipywidgets`.\n",
      "  \"`IPython.html.widgets` has moved to `ipywidgets`.\", ShimWarning)\n"
     ]
    }
   ],
   "source": [
    "%load_ext autoreload\n",
    "%autoreload 2\n",
    "import numpy as np\n",
    "from evaluator import Evaluator\n",
    "import os\n",
    "import matplotlib.pyplot as plt\n",
    "import IPython.html.widgets as w\n",
    "import utils\n",
    "%matplotlib inline"
   ]
  },
  {
   "cell_type": "code",
   "execution_count": 2,
   "metadata": {
    "collapsed": true
   },
   "outputs": [],
   "source": [
    "filename = '/home/htang6/workspace/nod/training/detector/filenames_elephant.npy'\n",
    "data_dir = '/home/htang6/preprocess_result/'\n",
    "filename = np.load(filename)"
   ]
  },
  {
   "cell_type": "code",
   "execution_count": 3,
   "metadata": {},
   "outputs": [
    {
     "name": "stdout",
     "output_type": "stream",
     "text": [
      "['chu_zaiyong_20170915_204327111' 'chen_shanghong_20170915_124630458'\n",
      " 'chen_tingting_20170915_133452526' 'chen_guoqiang_20170915_175857926'\n",
      " 'dong_shuping_20170915_130056185' 'an_huajun_20170915_153907038'\n",
      " 'cao_cheng_20170915_143050807' 'chu_milan_20170915_105056865'\n",
      " 'chen_donglin_20170915_132623387' 'dang_zhengquan_20170915_171709778'\n",
      " 'chu_dejun_20170916_200905492' 'cui_fei_20170915_203141679'\n",
      " 'chen_liguang_20170915_135022426']\n"
     ]
    }
   ],
   "source": [
    "print filename"
   ]
  },
  {
   "cell_type": "code",
   "execution_count": 4,
   "metadata": {
    "collapsed": true
   },
   "outputs": [],
   "source": [
    "patient = filename[5]\n",
    "img = np.load(os.path.join(data_dir, '%s_clean.npy' % (patient)))"
   ]
  },
  {
   "cell_type": "code",
   "execution_count": 5,
   "metadata": {},
   "outputs": [
    {
     "data": {
      "application/vnd.jupyter.widget-view+json": {
       "model_id": "a078e0c010fc4280af857801df00c9f0",
       "version_major": 2,
       "version_minor": 0
      },
      "text/plain": [
       "A Jupyter Widget"
      ]
     },
     "metadata": {},
     "output_type": "display_data"
    },
    {
     "data": {
      "text/plain": [
       "<function __main__.fz>"
      ]
     },
     "execution_count": 5,
     "metadata": {},
     "output_type": "execute_result"
    }
   ],
   "source": [
    "# plt.imshow(imgs[40], cmap='gray')\n",
    "# plt.show()\n",
    "# e = evaluator('elephant/', 'test', '/home/htang6/workspace/nod/training/detector/filenames_elephant.npy, ckpt=i,pbb_cutoff=0.5)\n",
    "def fz(k):\n",
    "    plt.rcParams['figure.figsize'] = (16.0, 8.0)\n",
    "    plt.imshow(img[k], cmap='gray')\n",
    "\n",
    "w.interact(fz, k=w.IntSlider(min=0,max=img.shape[0]-1,step=1,value=0))"
   ]
  },
  {
   "cell_type": "code",
   "execution_count": 18,
   "metadata": {},
   "outputs": [
    {
     "name": "stdout",
     "output_type": "stream",
     "text": [
      "WARNING: USING /home/htang6/preprocess_result FOR SPACING, ORIGIN, EBOX_ORIGIN\n"
     ]
    }
   ],
   "source": [
    "e = Evaluator('elephant/', 'test', '/home/htang6/workspace/nod/training/detector/filenames_elephant.npy', ckpt=95,pbb_cutoff=0.5)"
   ]
  },
  {
   "cell_type": "code",
   "execution_count": 35,
   "metadata": {},
   "outputs": [
    {
     "data": {
      "text/plain": [
       "'/home/htang6/preprocess_result'"
      ]
     },
     "execution_count": 35,
     "metadata": {},
     "output_type": "execute_result"
    }
   ],
   "source": [
    "e.PREP"
   ]
  },
  {
   "cell_type": "code",
   "execution_count": 21,
   "metadata": {
    "collapsed": true
   },
   "outputs": [],
   "source": [
    "res = '/home/htang6/workspace/nod/training/detector/results/elephant/bbox/elephant_095/'\n",
    "pbb = np.load(os.path.join(res, '%s_pbb.npy' % (patient)))"
   ]
  },
  {
   "cell_type": "code",
   "execution_count": 34,
   "metadata": {},
   "outputs": [
    {
     "name": "stdout",
     "output_type": "stream",
     "text": [
      "[[   4.06543732  126.20900726   56.83874512   86.20251465    6.03859043]\n",
      " [   3.44784188  156.5027771    54.14354324   86.29499054    5.77470303]\n",
      " [   2.49460006  125.35141754  161.67379761  214.40551758    5.85423183]\n",
      " [   1.87616575  198.62382507   86.215271    106.23899078    5.59163618]\n",
      " [   1.74383461  101.72181702   38.11397171  238.36517334    5.37033367]\n",
      " [   1.54833364  132.87101746   84.73021698  230.07189941    9.30238438]\n",
      " [   1.37440681  133.17575073   64.68791962   87.99475098   10.28957081]\n",
      " [   1.31388021  113.4196701   129.10031128   80.46769714    9.95795727]\n",
      " [   1.18159974  113.995224    113.29669189   42.15019608    5.55807447]\n",
      " [   1.17538476  181.00769043  101.37924957  200.93838501   11.20460224]]\n"
     ]
    },
    {
     "data": {
      "application/vnd.jupyter.widget-view+json": {
       "model_id": "b63b7d4782b04cd6be4fe7cd4e317393",
       "version_major": 2,
       "version_minor": 0
      },
      "text/plain": [
       "A Jupyter Widget"
      ]
     },
     "metadata": {},
     "output_type": "display_data"
    },
    {
     "data": {
      "text/plain": [
       "<function __main__.fz>"
      ]
     },
     "execution_count": 34,
     "metadata": {},
     "output_type": "execute_result"
    }
   ],
   "source": [
    "print pbb[:10]\n",
    "n = 2\n",
    "z, y, x, d = pbb[n][1], pbb[n][2], pbb[n][3], pbb[n][4]\n",
    "def fz(k):\n",
    "    utils.showTargetImgComp(img, [k,y,x], plt, d=d, t=str(patient))\n",
    "#     plt.rcParams['figure.figsize'] = (16.0, 8.0)\n",
    "#     plt.imshow(img[k], cmap='gray')\n",
    "\n",
    "\n",
    "w.interact(fz, k=w.IntSlider(min=0,max=img.shape[0]-1,step=1,value=z))"
   ]
  },
  {
   "cell_type": "code",
   "execution_count": null,
   "metadata": {
    "collapsed": true
   },
   "outputs": [],
   "source": []
  }
 ],
 "metadata": {
  "kernelspec": {
   "display_name": "Python 2",
   "language": "python",
   "name": "python2"
  },
  "language_info": {
   "codemirror_mode": {
    "name": "ipython",
    "version": 2
   },
   "file_extension": ".py",
   "mimetype": "text/x-python",
   "name": "python",
   "nbconvert_exporter": "python",
   "pygments_lexer": "ipython2",
   "version": "2.7.14"
  }
 },
 "nbformat": 4,
 "nbformat_minor": 2
}
