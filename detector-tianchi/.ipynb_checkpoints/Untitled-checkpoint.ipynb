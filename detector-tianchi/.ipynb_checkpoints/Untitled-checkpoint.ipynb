{
 "cells": [
  {
   "cell_type": "code",
   "execution_count": 20,
   "metadata": {},
   "outputs": [
    {
     "name": "stdout",
     "output_type": "stream",
     "text": [
      "The autoreload extension is already loaded. To reload it, use:\n",
      "  %reload_ext autoreload\n"
     ]
    }
   ],
   "source": [
    "%load_ext autoreload\n",
    "%autoreload 2\n",
    "import numpy as np\n",
    "import evaluator\n",
    "import os\n",
    "import matplotlib.pyplot as plt\n",
    "import IPython.html.widgets as w\n",
    "import utils"
   ]
  },
  {
   "cell_type": "code",
   "execution_count": 9,
   "metadata": {
    "collapsed": true
   },
   "outputs": [],
   "source": [
    "filename = '/home/htang6/workspace/nod/training/detector/filenames_elephant.npy'\n",
    "data_dir = '/home/htang6/preprocess_result/'\n",
    "filename = np.load(filename)"
   ]
  },
  {
   "cell_type": "code",
   "execution_count": 10,
   "metadata": {},
   "outputs": [
    {
     "name": "stdout",
     "output_type": "stream",
     "text": [
      "['chu_zaiyong_20170915_204327111' 'chen_shanghong_20170915_124630458'\n",
      " 'chen_tingting_20170915_133452526' 'chen_guoqiang_20170915_175857926'\n",
      " 'dong_shuping_20170915_130056185' 'an_huajun_20170915_153907038'\n",
      " 'cao_cheng_20170915_143050807' 'chu_milan_20170915_105056865'\n",
      " 'chen_donglin_20170915_132623387' 'dang_zhengquan_20170915_171709778'\n",
      " 'chu_dejun_20170916_200905492' 'cui_fei_20170915_203141679'\n",
      " 'chen_liguang_20170915_135022426']\n"
     ]
    }
   ],
   "source": [
    "print filename"
   ]
  },
  {
   "cell_type": "code",
   "execution_count": 25,
   "metadata": {},
   "outputs": [],
   "source": [
    "patient = filename[10]\n",
    "img = np.load(os.path.join(data_dir, '%s_clean.npy' % (patient)))"
   ]
  },
  {
   "cell_type": "code",
   "execution_count": 26,
   "metadata": {},
   "outputs": [
    {
     "data": {
      "application/vnd.jupyter.widget-view+json": {
       "model_id": "4ee57ba1db8b427581a269e066975565",
       "version_major": 2,
       "version_minor": 0
      },
      "text/plain": [
       "A Jupyter Widget"
      ]
     },
     "metadata": {},
     "output_type": "display_data"
    },
    {
     "data": {
      "text/plain": [
       "<function __main__.fz>"
      ]
     },
     "execution_count": 26,
     "metadata": {},
     "output_type": "execute_result"
    }
   ],
   "source": [
    "# plt.imshow(imgs[40], cmap='gray')\n",
    "# plt.show()\n",
    "# e = evaluator('elephant/', 'test', '/home/htang6/workspace/nod/training/detector/filenames_elephant.npy, ckpt=i,pbb_cutoff=0.5)\n",
    "def fz(k):\n",
    "    plt.rcParams['figure.figsize'] = (16.0, 8.0)\n",
    "    plt.imshow(img[k], cmap='gray')\n",
    "    plt.show()\n",
    "w.interact(fz, k=w.IntSlider(min=0,max=img.shape[0]-1,step=1,value=0))"
   ]
  },
  {
   "cell_type": "code",
   "execution_count": null,
   "metadata": {
    "collapsed": true
   },
   "outputs": [],
   "source": []
  }
 ],
 "metadata": {
  "kernelspec": {
   "display_name": "Python 2",
   "language": "python",
   "name": "python2"
  },
  "language_info": {
   "codemirror_mode": {
    "name": "ipython",
    "version": 2
   },
   "file_extension": ".py",
   "mimetype": "text/x-python",
   "name": "python",
   "nbconvert_exporter": "python",
   "pygments_lexer": "ipython2",
   "version": "2.7.14"
  }
 },
 "nbformat": 4,
 "nbformat_minor": 2
}
